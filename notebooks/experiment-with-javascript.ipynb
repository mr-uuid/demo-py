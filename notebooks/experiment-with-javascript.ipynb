{
 "cells": [
  {
   "cell_type": "code",
   "execution_count": 11,
   "metadata": {},
   "outputs": [
    {
     "data": {
      "text/html": [
       "<style>.container { width:90% !important; }</style>"
      ],
      "text/plain": [
       "<IPython.core.display.HTML object>"
      ]
     },
     "metadata": {},
     "output_type": "display_data"
    },
    {
     "data": {
      "text/plain": [
       "999"
      ]
     },
     "execution_count": 11,
     "metadata": {},
     "output_type": "execute_result"
    }
   ],
   "source": [
    "from notebook_imports import *\n",
    "display(HTML(\"<style>.container { width:90% !important; }</style>\"))\n",
    "pd.set_option(\"display.max_rows\", 999)\n",
    "pd.get_option(\"display.max_rows\")"
   ]
  },
  {
   "cell_type": "code",
   "execution_count": 12,
   "metadata": {},
   "outputs": [
    {
     "data": {
      "application/javascript": [
       "\n",
       "// Javascript learnings ...\n",
       "\n",
       "// Production librarys for JS can be found here: https://cdnjs.cloudflare.com\n",
       "    // Where else can they be found?\n",
       "\n",
       "// H not being defined was because a box couldnt be drawn since the div it wanted to draw on had no space ...\n",
       "    // What are the different dom events?\n",
       "    // What are some of the assumptions ui engineers make? In this case, the assumption was that the div \n",
       "    // - [ ] Open an issue with cytoscape showing that it crashes/errors if the dif you are trying to dislpay to has no space.\n",
       "\n",
       "// Figure out what js gets imported by default ...\n",
       "// What is the best way to capture size from a reactive perspective - no pixels? Or atleast at the wee end and then have everything be relative to an anchor on the screen?\n",
       "\n",
       "// Degree on a node is the number of connections it has?\n",
       "//     https://www.biostars.org/p/280679/\n"
      ],
      "text/plain": [
       "<IPython.core.display.Javascript object>"
      ]
     },
     "metadata": {},
     "output_type": "display_data"
    }
   ],
   "source": [
    "%%javascript\n",
    "\n",
    "// Javascript learnings ...\n",
    "\n",
    "// Production librarys for JS can be found here: https://cdnjs.cloudflare.com\n",
    "    // Where else can they be found?\n",
    "\n",
    "// H not being defined was because a box couldnt be drawn since the div it wanted to draw on had no space ...\n",
    "    // What are the different dom events?\n",
    "    // What are some of the assumptions ui engineers make? In this case, the assumption was that the div \n",
    "    // - [ ] Open an issue with cytoscape showing that it crashes/errors if the dif you are trying to dislpay to has no space.\n",
    "\n",
    "// Figure out what js gets imported by default ...\n",
    "// What is the best way to capture size from a reactive perspective - no pixels? Or atleast at the wee end and then have everything be relative to an anchor on the screen?\n",
    "\n",
    "// Degree on a node is the number of connections it has?\n",
    "//     https://www.biostars.org/p/280679/"
   ]
  },
  {
   "cell_type": "code",
   "execution_count": null,
   "metadata": {},
   "outputs": [],
   "source": [
    "# display(Javascript(filename=\"draw.js\"))\n",
    "# display(Javascript(\"\"\"\n",
    "#     (function(element){\n",
    "#         require(['draw'], function(draw) {\n",
    "#             draw(element.get(0));\n",
    "#         });\n",
    "#     })(element);\n",
    "# \"\"\"\n",
    "# ))"
   ]
  },
  {
   "cell_type": "code",
   "execution_count": null,
   "metadata": {},
   "outputs": [],
   "source": [
    "# %%javascript\n",
    "# requirejs.config({\n",
    "#   paths: {\n",
    "#     'jquery': 'https://code.jquery.com/jquery-1.12.4.min',\n",
    "#     'cytoscape': 'https://cdnjs.cloudflare.com/ajax/libs/cytoscape/2.7.9/cytoscape.min',\n",
    "#     'cytoscape-panzoom': 'https://cdnjs.cloudflare.com/ajax/libs/cytoscape-panzoom/2.4.0/cytoscape-panzoom.min',\n",
    "#     'bootstrap': 'https://maxcdn.bootstrapcdn.com/bootstrap/3.3.6/js/bootstrap.min.js',\n",
    "#   },\n",
    "#   shim: {\n",
    "#     'bootstrap': ['jquery']\n",
    "#   }\n",
    "# });"
   ]
  },
  {
   "cell_type": "code",
   "execution_count": null,
   "metadata": {},
   "outputs": [],
   "source": [
    "html_div = '<div id=\"cy_id\"></div>'\n",
    "\n",
    "script_code = '''\n",
    "\n",
    "    requirejs.config({\n",
    "      paths: {\n",
    "        'cytoscape': 'https://js.cytoscape.org/js/cytoscape.min'\n",
    "      },\n",
    "      shim: {\n",
    "        'cytoscape': {\n",
    "            'exports': 'cytoscape'\n",
    "        }\n",
    "      }\n",
    "    });\n",
    "\n",
    "    requirejs(\n",
    "        ['cytoscape'], \n",
    "        function(cytoscape){\n",
    "            fetch('http://js.cytoscape.org/demos/labels/cy-style.json')\n",
    "            .then(function(res) {\n",
    "                return res.json()\n",
    "            })\n",
    "            .then(function(style) {\n",
    "                var cy = cytoscape({\n",
    "                  container: document.getElementById('cy_id'),\n",
    "                  style: style,\n",
    "                  elements: [\n",
    "                    { data: { label: 'top left' }, classes: 'top-left' },\n",
    "                    { data: { label: 'top center' }, classes: 'top-center' },\n",
    "                    { data: { label: 'top right' }, classes: 'top-right' },\n",
    "                    { data: { label: 'center left' }, classes: 'center-left' },\n",
    "                    { data: { label: 'center center' }, classes: 'center-center' },\n",
    "                    { data: { label: 'center right' }, classes: 'center-right' },\n",
    "                    { data: { label: 'bottom left' }, classes: 'bottom-left' },\n",
    "                    { data: { label: 'bottom center' }, classes: 'bottom-center' },\n",
    "                    { data: { label: 'bottom right' }, classes: 'bottom-right' },\n",
    "                    { data: { label: 'multiline auto foo bar baz' }, classes: 'multiline-auto' },\n",
    "                    { data: { label: 'outline' }, classes: 'outline' },\n",
    "                    { data: { id: 'ar-src' } },\n",
    "                    { data: { id: 'ar-tgt' } },\n",
    "                    { data: { source: 'ar-src', target: 'ar-tgt', label: 'autorotate (move my nodes)' }, classes: 'autorotate' },\n",
    "                    { data: { label: 'background' }, classes: 'background' }\n",
    "                  ]\n",
    "                });\n",
    "            });\n",
    "        }\n",
    "    );\n",
    "'''\n",
    "\n",
    "# display(HTML(\"<script src='https://raw.githubusercontent.com/cytoscape/cytoscape.js/cd4c675247d526ee108737325165006d8861b02b/dist/cytoscape.min.js'></script>\"), display_id='cy')\n",
    "# display(HTML(\"<script src='https://cdnjs.cloudflare.com/ajax/libs/cytoscape/2.7.9/cytoscape.min'></script>\"), display_id='cy')\n",
    "\n",
    "display(Javascript(script_code), display_id=\"cy_id\", update=True)\n",
    "display(HTML(html_div), display_id='cy_id', update=True)"
   ]
  }
 ],
 "metadata": {
  "kernelspec": {
   "display_name": "Python 3",
   "language": "python",
   "name": "python3"
  },
  "language_info": {
   "codemirror_mode": {
    "name": "ipython",
    "version": 3
   },
   "file_extension": ".py",
   "mimetype": "text/x-python",
   "name": "python",
   "nbconvert_exporter": "python",
   "pygments_lexer": "ipython3",
   "version": "3.7.9"
  }
 },
 "nbformat": 4,
 "nbformat_minor": 2
}
